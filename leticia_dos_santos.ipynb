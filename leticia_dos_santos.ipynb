{
 "cells": [
  {
   "cell_type": "markdown",
   "id": "167dd41b",
   "metadata": {},
   "source": [
    "# Lista de exercícios - Módulo Estatística I\n",
    "\n",
    "INFORMAÇÕES:\n",
    "\n",
    "- São 8 questões que devem ser RESOLVIDAS E JUSTIFICADAS;\n",
    "- DESTAQUE AS RESPOSTA E JUSTIFICATICA;\n",
    "- Usou código? MOSTRE-O, e com comentários explique o raciocínio que utilizou;\n",
    "- Apenas respostas sem justificativa/código/comentários ganha somente 10% do valor da questão;\n",
    "- Questões com respostas exatamente iguais entre colegas serão zeradas;\n",
    "- Organização nas resoluções também serão um critério IMPORTANTÍSSIMO.\n",
    "\n",
    "ATENÇÃO: Resolva a prova em um jupyter notebook, salve o arquivo com o nome \"meu_nome_completo.ipynb\" e envie na aba \"Projeto\" do LMS.\n",
    "\n",
    "DATA: ATÉ 27/02 as 22:00"
   ]
  },
  {
   "cell_type": "markdown",
   "id": "cbbdea97",
   "metadata": {},
   "source": [
    "## Questões da Lista"
   ]
  },
  {
   "cell_type": "markdown",
   "id": "233f5f3c",
   "metadata": {},
   "source": [
    "### Estatística Descritiva"
   ]
  },
  {
   "cell_type": "markdown",
   "id": "9cf75454",
   "metadata": {},
   "source": [
    "__1)__ Pensando em estatística descritiva, indique pelo menos 2 __métricas de posição__:"
   ]
  },
  {
   "cell_type": "markdown",
   "id": "09bb17f4",
   "metadata": {},
   "source": [
    "Estatística descritiva, as métricas de posição são usadas para resumir um conjunto de dados e nos dar uma ideia de onde os valores estão concentrados. Duas métricas de posição comuns são:\n",
    "\n",
    "Média: A média é simplesmente a soma de todos os valores dividida pelo número total de valores. Por exemplo, se tivermos os números 2, 4, 6, 8 e 10, a média seria (2 + 4 + 6 + 8 + 10) / 5 = 6.\n",
    "\n",
    "Mediana: A mediana é o valor que está no meio de um conjunto de dados ordenados. Para encontrá-la, você lista todos os valores em ordem crescente ou decrescente e seleciona o valor central. Se houver um número par de valores, a mediana é a média dos dois valores centrais. Por exemplo, na lista 2, 4, 6, 8, 10, a mediana seria 6. Se tivermos a lista 1, 3, 5, 7, 9, 11, a mediana seria (5 + 7) / 2 = 6."
   ]
  },
  {
   "cell_type": "markdown",
   "id": "9d96bd30",
   "metadata": {},
   "source": [
    "## "
   ]
  },
  {
   "cell_type": "markdown",
   "id": "219cdba6",
   "metadata": {},
   "source": [
    "__2)__ Dado o boxplot conforme a figura abaixo:\n",
    "\n",
    "<img src=\"https://i0.wp.com/www.abgconsultoria.com.br/blog/wp-content/uploads/boxplot-1-1024x664.png?resize=1024%2C664\" width=400>\n",
    "\n",
    "Como é definida a fórmula para os limites __superior__ e __inferior__ do boxplot que separar os dados da distribuição dos prováveis _outliers_?\n"
   ]
  },
  {
   "cell_type": "code",
   "execution_count": 1,
   "id": "8b2b06ab",
   "metadata": {},
   "outputs": [
    {
     "name": "stdout",
     "output_type": "stream",
     "text": [
      "Limite Inferior: -12.5\n",
      "Limite Superior: 77.5\n"
     ]
    }
   ],
   "source": [
    "import numpy as np\n",
    "\n",
    "def calcular_limites_boxplot(data):\n",
    "    # quartis\n",
    "    Q1 = np.percentile(data, 25)\n",
    "    Q3 = np.percentile(data, 75)\n",
    "    \n",
    "    # IQR\n",
    "    IQR = Q3 - Q1\n",
    "    \n",
    "    #limites\n",
    "    limite_inferior = Q1 - 1.5 * IQR\n",
    "    limite_superior = Q3 + 1.5 * IQR\n",
    "    \n",
    "    return limite_inferior, limite_superior\n",
    "\n",
    "dados = [10, 15, 20, 25, 30, 35, 40, 45, 50, 200]\n",
    "limite_inf, limite_sup = calcular_limites_boxplot(dados)\n",
    "print(\"Limite Inferior:\", limite_inf)\n",
    "print(\"Limite Superior:\", limite_sup)\n"
   ]
  },
  {
   "cell_type": "markdown",
   "id": "4317559e",
   "metadata": {},
   "source": [
    "## "
   ]
  },
  {
   "cell_type": "markdown",
   "id": "42257347",
   "metadata": {},
   "source": [
    "### Probabilidade"
   ]
  },
  {
   "cell_type": "markdown",
   "id": "0a01e568",
   "metadata": {},
   "source": [
    "__3)__ Rafael queria levar dinheiro na escola para comprar balas, mas sua mãe só deixou que ele leva-se duas moedas para a escola. Sabendo que dentro do cofre do Rafael, temos as seguintes moedas:\n",
    "\n",
    "- 10 centavos = 5 moedas\n",
    "- 25 centavos = 3 moedas\n",
    "- 50 centavos = 10 moedas\n",
    "- 01 real     = 2 moedas\n",
    "\n",
    "Qual a probabilidade de Rafael retirar respectivamente uma moeda de __1 real__ e uma moeda de __25 centavos__ (sem reposição)?"
   ]
  },
  {
   "cell_type": "code",
   "execution_count": 2,
   "id": "f9700ee2",
   "metadata": {},
   "outputs": [
    {
     "name": "stdout",
     "output_type": "stream",
     "text": [
      "Probabilidade de retirar uma moeda de 1 real: 0.1\n",
      "Probabilidade de retirar uma moeda de 25 centavos após retirar uma moeda de 1 real: 0.15789473684210525\n",
      "Probabilidade conjunta: 0.015789473684210527\n"
     ]
    }
   ],
   "source": [
    "moedas = {\n",
    "    '10 centavos': 5,\n",
    "    '25 centavos': 3,\n",
    "    '50 centavos': 10,\n",
    "    '1 real': 2\n",
    "}\n",
    "\n",
    "# Probabilidade de retirar uma moeda de 1 real\n",
    "prob_1_real = moedas['1 real'] / sum(moedas.values())\n",
    "\n",
    "# Removendo uma moeda de 1 real\n",
    "moedas_restantes = moedas.copy()\n",
    "moedas_restantes['1 real'] -= 1\n",
    "\n",
    "# Probabilidade de retirar uma moeda de 25 centavos após retirar uma moeda de 1 real\n",
    "prob_25_centavos = moedas_restantes['25 centavos'] / sum(moedas_restantes.values())\n",
    "\n",
    "# Probabilidade conjunta\n",
    "prob_conjunta = prob_1_real * prob_25_centavos\n",
    "\n",
    "print(\"Probabilidade de retirar uma moeda de 1 real:\", prob_1_real)\n",
    "print(\"Probabilidade de retirar uma moeda de 25 centavos após retirar uma moeda de 1 real:\", prob_25_centavos)\n",
    "print(\"Probabilidade conjunta:\", prob_conjunta)\n"
   ]
  },
  {
   "cell_type": "markdown",
   "id": "8700bf3a",
   "metadata": {},
   "source": [
    "### Distribuições"
   ]
  },
  {
   "cell_type": "markdown",
   "id": "f71b5b27",
   "metadata": {},
   "source": [
    "__4)__ Em uma filial de um banco, 40% dos clientes que vão ao caixa eletrônico sacma dinheiro do caixa. Utilizando de uma distribuição binomial, qual é a probabilidade de no máximo 12 clientes sacaram dinheiro em um dia que tivemos 30 clientes no caixa eletrônico?"
   ]
  },
  {
   "cell_type": "code",
   "execution_count": 3,
   "id": "c90c9753",
   "metadata": {},
   "outputs": [
    {
     "name": "stdout",
     "output_type": "stream",
     "text": [
      "Probabilidade de no máximo 12 clientes sacarem dinheiro: 0.5784657285461174\n"
     ]
    }
   ],
   "source": [
    "def coeficiente_binomial(n, k):\n",
    "    if 0 <= k <= n:\n",
    "        resultado = 1\n",
    "        for i in range(min(k, n - k)):\n",
    "            resultado *= n - i\n",
    "            resultado //= i + 1\n",
    "        return resultado\n",
    "    else:\n",
    "        return 0\n",
    "\n",
    "def probabilidade_binomial(n, k, p):\n",
    "    return coeficiente_binomial(n, k) * p**k * (1-p)**(n-k)\n",
    "\n",
    "n = 30  # número total de clientes\n",
    "p = 0.4  # probabilidade de um cliente sacar dinheiro\n",
    "probabilidade_max_12 = sum(probabilidade_binomial(n, k, p) for k in range(13))\n",
    "\n",
    "print(\"Probabilidade de no máximo 12 clientes sacarem dinheiro:\", probabilidade_max_12)\n"
   ]
  },
  {
   "cell_type": "markdown",
   "id": "b9721408",
   "metadata": {
    "tags": []
   },
   "source": [
    "## "
   ]
  },
  {
   "cell_type": "markdown",
   "id": "47827929",
   "metadata": {},
   "source": [
    "__5)__ Em um centro de distribuição logístico da Amazon, chegam cerca de 1.440 produtos por dia. Sabendo que segue uma distribuição de Poisson, qual a probabilidade de que em um minuto cheguem 3 produtos?"
   ]
  },
  {
   "cell_type": "code",
   "execution_count": 4,
   "id": "622d5f82",
   "metadata": {},
   "outputs": [
    {
     "name": "stdout",
     "output_type": "stream",
     "text": [
      "Probabilidade de chegarem 3 produtos em um minuto: 0.06131324019524039\n"
     ]
    }
   ],
   "source": [
    "import math\n",
    "\n",
    "def probabilidade_poisson(lambd, k):\n",
    "    return (math.exp(-lambd) * lambd**k) / math.factorial(k)\n",
    "\n",
    "media_produtos_por_minuto = 1440 / 1440  # Média de produtos por minuto\n",
    "k = 3  # Número de produtos que queremos calcular a probabilidade de chegarem em um minuto\n",
    "\n",
    "probabilidade_3_produtos = probabilidade_poisson(media_produtos_por_minuto, k)\n",
    "print(\"Probabilidade de chegarem 3 produtos em um minuto:\", probabilidade_3_produtos)\n"
   ]
  },
  {
   "cell_type": "markdown",
   "id": "0db05ca9",
   "metadata": {},
   "source": [
    "## "
   ]
  },
  {
   "cell_type": "markdown",
   "id": "58459bdc",
   "metadata": {},
   "source": [
    "### Distribuição Normal"
   ]
  },
  {
   "cell_type": "markdown",
   "id": "5844dc4c",
   "metadata": {},
   "source": [
    "__6)__ Uma máquina de sorvete está regulada de modo a servir uma média de 80g por casquinha. Se a quantidade servida por casquinha seguir uma distribuição normal com desvio padrão de 8g, qual a porcentagem de casquinhas que conterão mais de 90g de sorvete?"
   ]
  },
  {
   "cell_type": "code",
   "execution_count": 5,
   "id": "ecb43bca",
   "metadata": {},
   "outputs": [
    {
     "name": "stdout",
     "output_type": "stream",
     "text": [
      "Porcentagem de casquinhas que contêm mais de 90g de sorvete: 10.56%\n"
     ]
    }
   ],
   "source": [
    "import math\n",
    "\n",
    "def cdf_normal(x):\n",
    "    return (1 + math.erf(x / math.sqrt(2))) / 2\n",
    "\n",
    "media = 80  # média\n",
    "desvio_padrao = 8  # desvio padrão\n",
    "limite_superior = 90  # limite superior\n",
    "\n",
    "# Calcula a probabilidade de que uma casquinha contenha 90g ou menos de sorvete\n",
    "z = (limite_superior - media) / desvio_padrao\n",
    "probabilidade_90g_ou_menos = cdf_normal(z)\n",
    "\n",
    "# A probabilidade de que uma casquinha contenha mais de 90g é 1 menos a probabilidade de 90g ou menos\n",
    "probabilidade_mais_de_90g = 1 - probabilidade_90g_ou_menos\n",
    "\n",
    "# Convertendo para porcentagem\n",
    "porcentagem_mais_de_90g = probabilidade_mais_de_90g * 100\n",
    "\n",
    "print(\"Porcentagem de casquinhas que contêm mais de 90g de sorvete: {:.2f}%\".format(porcentagem_mais_de_90g))\n"
   ]
  },
  {
   "cell_type": "markdown",
   "id": "15b3b807",
   "metadata": {},
   "source": [
    "__7)__ O tempo para fabricar um perfume em uma empresa é descrito por uma variável aleatória X, medida em horas, com distribuição normal de média $\\mu$ = 7 e desvio padrão $\\sigma$ = 2. Qual a probabilidade de que um perfume será finalizado entre 4 e 11 horas?"
   ]
  },
  {
   "cell_type": "code",
   "execution_count": 6,
   "id": "24ecf44c",
   "metadata": {},
   "outputs": [
    {
     "name": "stdout",
     "output_type": "stream",
     "text": [
      "Probabilidade de que um perfume será finalizado entre 4 e 11 horas: 0.9104426667829628\n"
     ]
    }
   ],
   "source": [
    "import math\n",
    "\n",
    "# Parâmetros da distribuição normal\n",
    "media = 7\n",
    "desvio_padrao = 2\n",
    "\n",
    "# Limites inferior e superior\n",
    "limite_inferior = 4\n",
    "limite_superior = 11\n",
    "\n",
    "# Calculando os valores padronizados\n",
    "z_limite_inferior = (limite_inferior - media) / (desvio_padrao * math.sqrt(2))\n",
    "z_limite_superior = (limite_superior - media) / (desvio_padrao * math.sqrt(2))\n",
    "\n",
    "# Calculando as probabilidades usando a função de erro\n",
    "probabilidade_limite_inferior = 0.5 * (1 + math.erf(z_limite_inferior))\n",
    "probabilidade_limite_superior = 0.5 * (1 + math.erf(z_limite_superior))\n",
    "\n",
    "# Calculando a probabilidade desejada\n",
    "probabilidade_entre_limites = probabilidade_limite_superior - probabilidade_limite_inferior\n",
    "\n",
    "print(\"Probabilidade de que um perfume será finalizado entre 4 e 11 horas:\", probabilidade_entre_limites)\n"
   ]
  },
  {
   "cell_type": "markdown",
   "id": "d9911fce",
   "metadata": {},
   "source": [
    "## "
   ]
  },
  {
   "cell_type": "markdown",
   "id": "eceaab61",
   "metadata": {},
   "source": [
    "### Teste de Hipóteses"
   ]
  },
  {
   "cell_type": "markdown",
   "id": "8b779de2",
   "metadata": {},
   "source": [
    "__8)__ Uma fabricante de refrigerante anunciou que o índice de cafeína do seu refrigerante de cola é menor ou igual 35mg por lata. Um laboratório realizou 20 análises do índice de cafeína obtendo os resultados (37, 34, 36, 37, 35, 32, 30, 35, 34, 36, 39, 38, 34, 35, 31, 30, 33, 35, 36, 31). Sabe-se que o índice de cafeína do refrigerante de cola dessa marca se distribui normalmente com variância igual a 4. Responda respectivamente a conclusão sobre o teste e o valor crítico para este teste com nível de significância de 5%?\n",
    "\n",
    "$$\n",
    "H_0: \\mu \\leq 35 mg\\\\\n",
    "H_a: \\mu > 35 mg\n",
    "$$"
   ]
  },
  {
   "cell_type": "code",
   "execution_count": 7,
   "id": "7b10207c",
   "metadata": {},
   "outputs": [
    {
     "name": "stdout",
     "output_type": "stream",
     "text": [
      "Valor médio das observações:  34.4\n"
     ]
    }
   ],
   "source": [
    "import numpy as np\n",
    "\n",
    "x = [37, 34, 36, 37, 35, 32, 30, 35, 34, 36, 39, 38, 34, 35, 31, 30, 33, 35, 36, 31]\n",
    "\n",
    "Xmedia = np.mean(x)\n",
    "\n",
    "print(\"Valor médio das observações: \", Xmedia)"
   ]
  },
  {
   "cell_type": "code",
   "execution_count": 8,
   "id": "75851bc5",
   "metadata": {},
   "outputs": [],
   "source": [
    "# 0. Avalie se é um tete do tipo calda inferior, superior ou bicaudal\n",
    "\n",
    "# 1. Com alpha = 0.05, calcule o Z tabulado\n",
    "\n",
    "# 2. Com Xmedia, mu, sigma e n calcule a estatística do teste e obtenha o z calculado\n",
    "\n",
    "# 3. A partir dos critérios, diga se aceitamos ou rejeitamos a hipótese nula"
   ]
  },
  {
   "cell_type": "code",
   "execution_count": 9,
   "id": "f12bd559",
   "metadata": {},
   "outputs": [
    {
     "name": "stdout",
     "output_type": "stream",
     "text": [
      "Valor médio das observações: 34.4\n",
      "Estatística do teste (Z): -1.341640786499877\n",
      "Valor crítico (Z): 1.6448536269514722\n",
      "Conclusão: Aceitar H0: Não há evidências suficientes para concluir que a média é maior que 35mg\n"
     ]
    }
   ],
   "source": [
    "import numpy as np\n",
    "from scipy.stats import norm\n",
    "\n",
    "# Dados\n",
    "x = np.array([37, 34, 36, 37, 35, 32, 30, 35, 34, 36, 39, 38, 34, 35, 31, 30, 33, 35, 36, 31])\n",
    "mu_hipotetico = 35\n",
    "sigma = 2\n",
    "n = len(x)\n",
    "alpha = 0.05\n",
    "\n",
    "# 3. Cálculo da estatística do teste (Z)\n",
    "X_media = np.mean(x)\n",
    "Z = (X_media - mu_hipotetico) / (sigma / np.sqrt(n))\n",
    "\n",
    "# 4. Cálculo do valor crítico\n",
    "Z_critico = norm.ppf(1 - alpha)\n",
    "\n",
    "# 5. Conclusão\n",
    "if Z > Z_critico:\n",
    "    conclusao = \"Rejeitar H0: Média é maior que 35mg\"\n",
    "else:\n",
    "    conclusao = \"Aceitar H0: Não há evidências suficientes para concluir que a média é maior que 35mg\"\n",
    "\n",
    "print(\"Valor médio das observações:\", X_media)\n",
    "print(\"Estatística do teste (Z):\", Z)\n",
    "print(\"Valor crítico (Z):\", Z_critico)\n",
    "print(\"Conclusão:\", conclusao)\n"
   ]
  }
 ],
 "metadata": {
  "kernelspec": {
   "display_name": "Python 3 (ipykernel)",
   "language": "python",
   "name": "python3"
  },
  "language_info": {
   "codemirror_mode": {
    "name": "ipython",
    "version": 3
   },
   "file_extension": ".py",
   "mimetype": "text/x-python",
   "name": "python",
   "nbconvert_exporter": "python",
   "pygments_lexer": "ipython3",
   "version": "3.11.3"
  },
  "varInspector": {
   "cols": {
    "lenName": 16,
    "lenType": 16,
    "lenVar": 40
   },
   "kernels_config": {
    "python": {
     "delete_cmd_postfix": "",
     "delete_cmd_prefix": "del ",
     "library": "var_list.py",
     "varRefreshCmd": "print(var_dic_list())"
    },
    "r": {
     "delete_cmd_postfix": ") ",
     "delete_cmd_prefix": "rm(",
     "library": "var_list.r",
     "varRefreshCmd": "cat(var_dic_list()) "
    }
   },
   "types_to_exclude": [
    "module",
    "function",
    "builtin_function_or_method",
    "instance",
    "_Feature"
   ],
   "window_display": false
  }
 },
 "nbformat": 4,
 "nbformat_minor": 5
}
